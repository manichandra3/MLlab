{
 "cells": [
  {
   "cell_type": "code",
   "id": "initial_id",
   "metadata": {
    "collapsed": true,
    "ExecuteTime": {
     "end_time": "2024-09-12T05:36:58.817100Z",
     "start_time": "2024-09-12T05:36:58.813516Z"
    }
   },
   "source": [
    "import numpy as np\n",
    "import pandas as pd\n",
    "import matplotlib.pyplot as plt"
   ],
   "outputs": [],
   "execution_count": 98
  },
  {
   "metadata": {
    "ExecuteTime": {
     "end_time": "2024-09-12T06:15:46.122139Z",
     "start_time": "2024-09-12T06:15:46.104142Z"
    }
   },
   "cell_type": "code",
   "source": [
    "def predict(w, x, b):\n",
    "    return np.dot(x, w) + b\n",
    "\n",
    "def MSE(w, x, b, y):\n",
    "    return np.mean((y - predict(w, x, b)) ** 2)/10000\n",
    "\n",
    "def random_split(data, ratio_x, ratio_y):\n",
    "    size = data.shape[0]\n",
    "    size_x = int(size * ratio_x)\n",
    "    size_y = int(size * ratio_y)\n",
    "    all_indices = np.arange(size)\n",
    "    np.random.shuffle(all_indices)\n",
    "    indices_y = all_indices[:size_y]\n",
    "    indices_x = all_indices[size_y:size_y + size_x]\n",
    "    data_x = data[indices_x]\n",
    "    data_y = data[indices_y]\n",
    "    return data_x, data_y\n",
    "\n",
    "def normalize_features(x):\n",
    "    mean = np.mean(x, axis=0)\n",
    "    std = np.std(x, axis=0)\n",
    "    x_normalized = (x - mean) / std\n",
    "    return x_normalized, mean, std\n",
    "\n",
    "\n",
    "def compute_gradient(w, x, b, y):\n",
    "    m = x.shape[0]\n",
    "    predictions = predict(w, x, b)\n",
    "    error = predictions - y\n",
    "    w_gradient = np.dot(x.T, error) / m\n",
    "    b_gradient = np.sum(error) / m\n",
    "    return w_gradient, b_gradient\n",
    "\n",
    "\n",
    "def cost_function(w, x, b, y):\n",
    "    m = x.shape[0]\n",
    "    predictions = predict(w, x, b)\n",
    "    squared_errors = np.square(predictions - y)\n",
    "    total_cost = np.sum(squared_errors) / (2 * m)\n",
    "    return total_cost/1000\n",
    "\n",
    "\n",
    "def gradient_descent(w, x, b, y, iterations, alpha):\n",
    "    J_history = []\n",
    "    b_history = []\n",
    "    w_history = []\n",
    "    m = x.shape[0]\n",
    "    for i in range(iterations):\n",
    "        w_gradient, b_gradient = compute_gradient(w, x, b, y)\n",
    "        w -= alpha * w_gradient\n",
    "        b -= alpha * b_gradient\n",
    "        J_history.append(cost_function(w, x, b, y))\n",
    "        w_history.append(w.copy())\n",
    "        b_history.append(b)\n",
    "        if i % 10 == 0:\n",
    "            print(f'Iteration {i}, Cost {J_history[-1]}, W: {w}, B: {b}')\n",
    "    return w_history, b_history, J_history, w, b\n"
   ],
   "id": "5a407ce1ea89524e",
   "outputs": [],
   "execution_count": 184
  },
  {
   "metadata": {
    "ExecuteTime": {
     "end_time": "2024-09-12T06:15:46.571832Z",
     "start_time": "2024-09-12T06:15:46.514821Z"
    }
   },
   "cell_type": "code",
   "source": [
    "df = pd.read_csv('data.csv')\n",
    "x_train_norm, mean, std = normalize_features(df.iloc[:, :-1].values)\n",
    "y_train = df.iloc[:, -1].values\n",
    "w_init = np.zeros(x_train_norm.shape[1])\n",
    "b_init = 0\n",
    "iters = 1000\n",
    "alpha = 0.1\n",
    "w_hist, b_hist, J_hist, w_final, b_final = gradient_descent(w_init, x_train_norm, b_init, y_train, iters, alpha)\n",
    "\n",
    "print('Final W:', w_final)\n",
    "print('Final B:', b_final)"
   ],
   "id": "a42523725ae12838",
   "outputs": [
    {
     "name": "stdout",
     "output_type": "stream",
     "text": [
      "Iteration 0, Cost 60788695.72635675, W: [ 7662.99110412  6175.11836092 -6267.47950109 -4112.2686549 ], B: 38117.64705882353\n",
      "Iteration 10, Cost 7439552.063833423, W: [ 37459.93807925  17602.91831837 -20318.32226502  -6344.15403344], B: 261559.25513745882\n",
      "Iteration 20, Cost 1032254.2538244593, W: [ 47146.4414279   14568.61651424 -21130.6753508   -2074.49750239], B: 339468.526495753\n",
      "Iteration 30, Cost 229065.60674974474, W: [ 52217.54805219  11402.95863607 -21892.97499246   -411.00542873], B: 366633.8097022905\n",
      "Iteration 40, Cost 118911.0553216398, W: [ 55172.89844307   8601.49199065 -22682.34419754   -102.53435004], B: 376105.7582756207\n",
      "Iteration 50, Cost 97635.97283224948, W: [ 57062.67211182   6177.00386614 -23381.54975807   -397.56335039], B: 379408.4225288769\n",
      "Iteration 60, Cost 89599.79509416125, W: [ 58388.25890607   4098.04922765 -23952.42769248   -938.97967275], B: 380559.99034887634\n",
      "Iteration 70, Cost 84712.8294934594, W: [ 59394.44361147   2322.85217848 -24394.99064343  -1560.67443897], B: 380961.5172200231\n",
      "Iteration 80, Cost 81265.56880774954, W: [ 60203.75207496    809.35524707 -24723.89677999  -2186.87136952], B: 381101.5209831128\n",
      "Iteration 90, Cost 78743.01298799121, W: [ 60879.98767035   -480.93869112 -24957.84656892  -2784.38899271], B: 381150.33727683505\n",
      "Iteration 100, Cost 76872.91932159966, W: [ 61458.39288065  -1581.78227103 -25115.10990248  -3340.05500847], B: 381167.3584659816\n",
      "Iteration 110, Cost 75474.9967503359, W: [ 61960.02113691  -2522.14268378 -25211.8547572   -3850.01819438], B: 381173.29338766186\n",
      "Iteration 120, Cost 74422.55962727212, W: [ 62398.62893336  -3326.61129642 -25261.71835472  -4314.68899683], B: 381175.36276689544\n",
      "Iteration 130, Cost 73624.96931534087, W: [ 62784.01791944  -4015.95232037 -25275.89879207  -4736.34488802], B: 381176.0843148186\n",
      "Iteration 140, Cost 73016.7640541868, W: [ 63123.68640643  -4607.65621052 -25263.43807176  -5117.9986835 ], B: 381176.3359030229\n",
      "Iteration 150, Cost 72550.30110647465, W: [ 63423.67104059  -5116.44494397 -25231.55096982  -5462.86642854], B: 381176.4236264056\n",
      "Iteration 160, Cost 72190.65028650698, W: [ 63688.99658201  -5554.7129578  -25185.93910121  -5774.12059559], B: 381176.4542136577\n",
      "Iteration 170, Cost 71912.01461241127, W: [ 63923.9327433   -5932.90329799 -25131.0681996   -6054.77948209], B: 381176.46487877314\n",
      "Iteration 180, Cost 71695.20463209572, W: [ 64132.15332262  -6259.82472049 -25070.40368894  -6307.66187177], B: 381176.468597469\n",
      "Iteration 190, Cost 71525.84526413548, W: [ 64316.843654    -6542.91736738 -25006.606696    -6535.37307081], B: 381176.46989409794\n",
      "Iteration 200, Cost 71393.0946595252, W: [ 64480.77897654  -6788.47467263 -24941.69518289  -6740.30602492], B: 381176.47034620447\n",
      "Iteration 210, Cost 71288.72282599183, W: [ 64626.38511853  -7001.82845958 -24877.17540841  -6924.64960594], B: 381176.4705038444\n",
      "Iteration 220, Cost 71206.44441707118, W: [ 64755.78748145  -7187.50328229 -24814.14863139  -7090.40017357], B: 381176.47055881\n",
      "Iteration 230, Cost 71141.43213664633, W: [ 64870.85165636  -7349.34515258 -24753.39738233  -7239.3744588 ], B: 381176.4705779753\n",
      "Iteration 240, Cost 71089.95929740682, W: [ 64973.21767099  -7490.62896859 -24695.45498564  -7373.22276701], B: 381176.4705846579\n",
      "Iteration 250, Cost 71049.13534636356, W: [ 65064.32916911  -7614.14824332 -24640.66141002  -7493.44197521], B: 381176.4705869879\n",
      "Iteration 260, Cost 71016.70877277669, W: [ 65145.45843809  -7722.29012364 -24589.20799326  -7601.3880428 ], B: 381176.4705878003\n",
      "Iteration 270, Cost 70990.9192031121, W: [ 65217.72797202  -7817.09818037 -24541.1731346   -7698.28788744], B: 381176.4705880836\n",
      "Iteration 280, Cost 70970.38566114064, W: [ 65282.1291102   -7900.32502577 -24496.55066974  -7785.25055135], B: 381176.4705881824\n",
      "Iteration 290, Cost 70954.02161166185, W: [ 65339.53818869  -7973.47646248 -24455.27232956  -7863.27762726], B: 381176.47058821685\n",
      "Iteration 300, Cost 70940.96998202194, W: [ 65390.73056641  -8037.84857661 -24417.22542519  -7933.27294045], B: 381176.4705882289\n",
      "Iteration 310, Cost 70930.55318881094, W: [ 65436.39282828  -8094.5589464  -24382.26669009  -7996.05150024], B: 381176.4705882331\n",
      "Iteration 320, Cost 70922.23451019447, W: [ 65477.13342074  -8144.5729383  -24350.23303572  -8052.34774602], B: 381176.47058823454\n",
      "Iteration 330, Cost 70915.58809115876, W: [ 65513.49193562  -8188.72589748 -24320.94983541  -8102.82311943], B: 381176.470588235\n",
      "Iteration 340, Cost 70910.27555643035, W: [ 65545.94722662  -8227.74190306 -24294.23723488  -8148.07299944], B: 381176.47058823507\n",
      "Iteration 350, Cost 70906.02770860985, W: [ 65574.92451538  -8262.24964563 -24269.91489281  -8188.63303865], B: 381176.47058823507\n",
      "Iteration 360, Cost 70902.63015940772, W: [ 65600.80162139  -8292.79589074 -24247.8054779   -8224.98494106], B: 381176.47058823507\n",
      "Iteration 370, Cost 70899.9120166569, W: [ 65623.91443109  -8319.85691496 -24227.7371856   -8257.56172056], B: 381176.47058823507\n",
      "Iteration 380, Cost 70897.73695510445, W: [ 65644.5617049   -8343.84823656 -24209.5454866   -8286.75247942], B: 381176.47058823507\n",
      "Iteration 390, Cost 70895.99615347762, W: [ 65663.00930752  -8365.13290975 -24193.0742774   -8312.90674423], B: 381176.47058823507\n",
      "Iteration 400, Cost 70894.6026973216, W: [ 65679.49393473  -8384.02860704 -24178.17656946  -8336.33839526], B: 381176.47058823507\n",
      "Iteration 410, Cost 70893.48713627608, W: [ 65694.22640022  -8400.8136778  -24164.71482603  -8357.32922329], B: 381176.47058823507\n",
      "Iteration 420, Cost 70892.59395280253, W: [ 65707.39453735  -8415.73234033 -24152.56103342  -8376.13214594], B: 381176.47058823507\n",
      "Iteration 430, Cost 70891.8787520471, W: [ 65719.1657633   -8428.99913941 -24141.59657554  -8392.97411338], B: 381176.47058823507\n",
      "Iteration 440, Cost 70891.30602330578, W: [ 65729.68934699  -8440.80278022 -24131.71196613  -8408.0587312 ], B: 381176.47058823507\n",
      "Iteration 450, Cost 70890.84735528362, W: [ 65739.0984167   -8451.30943175 -24122.80648114  -8421.56862626], B: 381176.47058823507\n",
      "Iteration 460, Cost 70890.48001210562, W: [ 65747.51173863  -8460.66557828 -24114.78772472  -8433.66757918], B: 381176.47058823507\n",
      "Iteration 470, Cost 70890.18579645114, W: [ 65755.03529377  -8469.00048498 -24107.57115417  -8444.50244532], B: 381176.47058823507\n",
      "Iteration 480, Cost 70889.95014143425, W: [ 65761.76367684  -8476.42833359 -24101.07958392  -8454.20488433], B: 381176.47058823507\n",
      "Iteration 490, Cost 70889.76138487835, W: [ 65767.78133823  -8483.05007556 -24095.24268304  -8462.89291645], B: 381176.47058823507\n",
      "Iteration 500, Cost 70889.61018912797, W: [ 65773.16368732  -8488.95504251 -24089.99647756  -8470.67232231], B: 381176.47058823507\n",
      "Iteration 510, Cost 70889.48907706368, W: [ 65777.97807302  -8494.22234825 -24085.28286556  -8477.63790145], B: 381176.47058823507\n",
      "Iteration 520, Cost 70889.39206094384, W: [ 65782.2846558   -8498.92211112 -24081.0491507   -8483.87460344], B: 381176.47058823507\n",
      "Iteration 530, Cost 70889.31434543163, W: [ 65786.13718353  -8503.11652135 -24077.24759807  -8489.45854399], B: 381176.47058823507\n",
      "Iteration 540, Cost 70889.25208993565, W: [ 65789.58368216  -8506.86077448 -24073.83501473  -8494.4579176 ], B: 381176.47058823507\n",
      "Iteration 550, Cost 70889.2022183827, W: [ 65792.66707062  -8510.20388872 -24070.77235627  -8498.93381703], B: 381176.47058823507\n",
      "Iteration 560, Cost 70889.1622669392, W: [ 65795.42570877  -8513.18942179 -24068.0243598   -8502.94096878], B: 381176.47058823507\n",
      "Iteration 570, Cost 70889.13026209119, W: [ 65797.89388559  -8515.85610022 -24065.55920337  -8506.52839324], B: 381176.47058823507\n",
      "Iteration 580, Cost 70889.1046230261, W: [ 65800.1022545   -8518.2383727  -24063.34819103  -8509.73999687], B: 381176.47058823507\n",
      "Iteration 590, Cost 70889.08408346136, W: [ 65802.07822148  -8520.36689702 -24061.36546284  -8512.6151035 ], B: 381176.47058823507\n",
      "Iteration 600, Cost 70889.0676290437, W: [ 65803.84629131  -8522.26896921 -24059.58772837  -8515.18893078], B: 381176.47058823507\n",
      "Iteration 610, Cost 70889.05444721495, W: [ 65805.42837654  -8523.96890203 -24057.99402284  -8517.49301744], B: 381176.47058823507\n",
      "Iteration 620, Cost 70889.04388705711, W: [ 65806.84407316  -8525.48835919 -24056.56548406  -8519.55560634], B: 381176.47058823507\n",
      "Iteration 630, Cost 70889.03542713307, W: [ 65808.11090676  -8526.84665071 -24055.28514917  -8521.40198792], B: 381176.47058823507\n",
      "Iteration 640, Cost 70889.02864972447, W: [ 65809.24455227  -8528.06099423 -24054.13776959  -8523.05480796], B: 381176.47058823507\n",
      "Iteration 650, Cost 70889.02322019986, W: [ 65810.25903024  -8529.1467463  -24053.10964279  -8524.53434346], B: 381176.47058823507\n",
      "Iteration 660, Cost 70889.01887048516, W: [ 65811.16688211  -8530.11760736 -24052.18845974  -8525.85874988], B: 381176.47058823507\n",
      "Iteration 670, Cost 70889.01538582557, W: [ 65811.97932684  -8530.98580346 -24051.36316655  -8527.04428261], B: 381176.47058823507\n",
      "Iteration 680, Cost 70889.0125941781, W: [ 65812.70640078  -8531.76224752 -24050.62383927  -8528.10549546], B: 381176.47058823507\n",
      "Iteration 690, Cost 70889.01035771742, W: [ 65813.35708278  -8532.45668246 -24049.96157068  -8529.05541845], B: 381176.47058823507\n",
      "Iteration 700, Cost 70889.00856602963, W: [ 65813.93940586  -8533.07780843 -24049.36836796  -8529.90571713], B: 381176.47058823507\n",
      "Iteration 710, Cost 70889.00713066016, W: [ 65814.46055714  -8533.63339584 -24048.8370604   -8530.6668352 ], B: 381176.47058823507\n",
      "Iteration 720, Cost 70889.00598074592, W: [ 65814.92696713  -8534.1303859  -24048.36121605  -8531.34812237], B: 381176.47058823507\n",
      "Iteration 730, Cost 70889.00505951727, W: [ 65815.34438953  -8534.57498009 -24047.93506663  -8531.95794876], B: 381176.47058823507\n",
      "Iteration 740, Cost 70889.00432149485, W: [ 65815.71797264  -8534.97271984 -24047.55343996  -8532.50380745], B: 381176.47058823507\n",
      "Iteration 750, Cost 70889.00373024384, W: [ 65816.05232315  -8535.32855738 -24047.21169897  -8532.99240627], B: 381176.47058823507\n",
      "Iteration 760, Cost 70889.00325657545, W: [ 65816.35156321  -8535.64691897 -24046.90568697  -8533.42975002], B: 381176.47058823507\n",
      "Iteration 770, Cost 70889.00287710594, W: [ 65816.61938152  -8535.93176124 -24046.6316783   -8533.82121408], B: 381176.47058823507\n",
      "Iteration 780, Cost 70889.0025731017, W: [ 65816.85907891  -8536.18662133 -24046.38633407  -8534.17161032], B: 381176.47058823507\n",
      "Iteration 790, Cost 70889.00232955489, W: [ 65817.07360924  -8536.41466171 -24046.16666227  -8534.48524617], B: 381176.47058823507\n",
      "Iteration 800, Cost 70889.00213444233, W: [ 65817.26561587  -8536.61871013 -24045.96998203  -8534.76597742], B: 381176.47058823507\n",
      "Iteration 810, Cost 70889.00197813174, W: [ 65817.43746436  -8536.8012952  -24045.79389145  -8535.01725556], B: 381176.47058823507\n",
      "Iteration 820, Cost 70889.00185290673, W: [ 65817.59127168  -8536.96467827 -24045.63623875  -8535.24217018], B: 381176.47058823507\n",
      "Iteration 830, Cost 70889.00175258519, W: [ 65817.72893238  -8537.11088177 -24045.4950964   -8535.44348683], B: 381176.47058823507\n",
      "Iteration 840, Cost 70889.00167221451, W: [ 65817.85214196  -8537.24171459 -24045.36873781  -8535.62368106], B: 381176.47058823507\n",
      "Iteration 850, Cost 70889.00160782732, W: [ 65817.96241778  -8537.35879472 -24045.25561652  -8535.78496878], B: 381176.47058823507\n",
      "Iteration 860, Cost 70889.00155624465, W: [ 65818.06111786  -8537.46356946 -24045.15434746  -8535.92933347], B: 381176.47058823507\n",
      "Iteration 870, Cost 70889.00151492028, W: [ 65818.14945754  -8537.55733351 -24045.06369021  -8536.05855057], B: 381176.47058823507\n",
      "Iteration 880, Cost 70889.00148181402, W: [ 65818.22852454  -8537.64124511 -24044.9825339   -8536.1742093 ], B: 381176.47058823507\n",
      "Iteration 890, Cost 70889.00145529157, W: [ 65818.29929234  -8537.71634046 -24044.90988376  -8536.27773217], B: 381176.47058823507\n",
      "Iteration 900, Cost 70889.00143404363, W: [ 65818.36263219  -8537.78354661 -24044.84484901  -8536.37039247], B: 381176.47058823507\n",
      "Iteration 910, Cost 70889.00141702115, W: [ 65818.41932386  -8537.84369298 -24044.786632    -8536.45332989], B: 381176.47058823507\n",
      "Iteration 920, Cost 70889.00140338429, W: [ 65818.47006522  -8537.89752171 -24044.73451854  -8536.5275646 ], B: 381176.47058823507\n",
      "Iteration 930, Cost 70889.00139245907, W: [ 65818.5154809   -8537.94569681 -24044.68786915  -8536.59400972], B: 381176.47058823507\n",
      "Iteration 940, Cost 70889.00138370664, W: [ 65818.55612992  -8537.98881243 -24044.64611126  -8536.65348258], B: 381176.47058823507\n",
      "Iteration 950, Cost 70889.00137669483, W: [ 65818.59251263  -8538.02740021 -24044.60873227  -8536.70671475], B: 381176.47058823507\n",
      "Iteration 960, Cost 70889.00137107732, W: [ 65818.62507683  -8538.0619359  -24044.57527322  -8536.75436106], B: 381176.47058823507\n",
      "Iteration 970, Cost 70889.00136657714, W: [ 65818.65422334  -8538.09284518 -24044.54532321  -8536.79700762], B: 381176.47058823507\n",
      "Iteration 980, Cost 70889.00136297185, W: [ 65818.68031086  -8538.12050902 -24044.5185144   -8536.83517906], B: 381176.47058823507\n",
      "Iteration 990, Cost 70889.00136008351, W: [ 65818.70366047  -8538.14526831 -24044.49451746  -8536.86934496], B: 381176.47058823507\n",
      "Final W: [ 65818.72257236  -8538.16532109 -24044.47508004  -8536.89701785]\n",
      "Final B: 381176.47058823507\n"
     ]
    }
   ],
   "execution_count": 185
  },
  {
   "metadata": {
    "ExecuteTime": {
     "end_time": "2024-09-12T06:15:47.547539Z",
     "start_time": "2024-09-12T06:15:47.540485Z"
    }
   },
   "cell_type": "code",
   "source": [
    "x_predict = np.array([2500, 4, 10, 5])\n",
    "x_predict_normalized = (x_predict - mean) / std\n",
    "print('Prediction:', predict(w_final, x_predict_normalized, b_final))"
   ],
   "id": "9ef7d0b344ebd3f3",
   "outputs": [
    {
     "name": "stdout",
     "output_type": "stream",
     "text": [
      "Prediction: 488354.4354786487\n"
     ]
    }
   ],
   "execution_count": 186
  },
  {
   "metadata": {
    "ExecuteTime": {
     "end_time": "2024-09-12T06:15:48.037436Z",
     "start_time": "2024-09-12T06:15:48.007473Z"
    }
   },
   "cell_type": "code",
   "source": [
    "x_test = pd.read_csv('test_data.csv')\n",
    "x_test_norm, mean, std = normalize_features(x_test.iloc[:, :-1].values)\n",
    "y_test = x_test.iloc[:, -1].values\n",
    "y_pred = predict(w_final, x_test_norm, b_final)\n",
    "mse = MSE(w_final, x_test_norm, b_final, y_test)\n",
    "mse_train = MSE(w_final, x_train_norm, b_final, y_train)\n",
    "print('Mean Squared Error on Test Set:', mse)\n",
    "print('Mean Squared Error on Train Set:', mse_train)\n",
    "import numpy as np\n",
    "\n",
    "def k_fold_cross_validation(x, y, k, iterations, alpha):\n",
    "    fold_size = x.shape[0] // k\n",
    "    indices = np.arange(x.shape[0])\n",
    "    np.random.shuffle(indices)\n",
    "    \n",
    "    folds = [indices[i * fold_size:(i + 1) * fold_size] for i in range(k)]\n",
    "    \n",
    "    best_alpha = None\n",
    "    best_iterations = None\n",
    "    best_cost = float('inf')\n",
    "    \n",
    "    for alpha_val in alpha:\n",
    "        for iter_val in iterations:\n",
    "            fold_costs = []\n",
    "            for i in range(k):\n",
    "                val_indices = folds[i]\n",
    "                train_indices = np.concatenate(folds[:i] + folds[i+1:])\n",
    "                \n",
    "                x_train, y_train = x[train_indices], y[train_indices]\n",
    "                x_val, y_val = x[val_indices], y[val_indices]\n",
    "                \n",
    "                # Normalize features\n",
    "                x_train_norm, mean, std = normalize_features(x_train)\n",
    "                x_val_norm = (x_val - mean) / std\n",
    "                \n",
    "                # Initialize weights and bias\n",
    "                w = np.zeros(x_train_norm.shape[1])\n",
    "                b = 0\n",
    "                \n",
    "                # Run gradient descent\n",
    "                w_history, b_history, J_history, w_final, b_final = gradient_descent(\n",
    "                    w, x_train_norm, b, y_train, iter_val, alpha_val\n",
    "                )\n",
    "                \n",
    "                # Compute cost on a validation set\n",
    "                x_val_norm = (x_val - mean) / std\n",
    "                cost = cost_function(w_final, x_val_norm, b_final, y_val)\n",
    "                fold_costs.append(cost)\n",
    "            \n",
    "            avg_cost = np.mean(fold_costs)\n",
    "            if avg_cost < best_cost:\n",
    "                best_cost = avg_cost\n",
    "                best_alpha = alpha_val\n",
    "                best_iterations = iter_val\n",
    "    \n",
    "    return best_alpha, best_iterations\n",
    "\n",
    "# alphas = [0.001, 0.01, 0.1, 0.5, 0.05, 0.034]\n",
    "# iterations = [100, 500, 1000, 5000, 10000]\n",
    "# k = 5\n",
    "# alpha, best_iters = k_fold_cross_validation(x_train_norm, y_train, 5, iterations, alphas)\n",
    "# print(alpha, best_iters)"
   ],
   "id": "f8cf14daf8de9ec7",
   "outputs": [
    {
     "name": "stdout",
     "output_type": "stream",
     "text": [
      "Mean Squared Error on Test Set: 2598988139.3980255\n",
      "Mean Squared Error on Train Set: 141778002.71595713\n"
     ]
    }
   ],
   "execution_count": 187
  },
  {
   "metadata": {
    "ExecuteTime": {
     "end_time": "2024-09-12T06:15:48.794766Z",
     "start_time": "2024-09-12T06:15:48.630284Z"
    }
   },
   "cell_type": "code",
   "source": [
    "plt.plot(range(iters), J_hist)\n",
    "plt.xlabel('Iterations')\n",
    "plt.ylabel('Cost')\n",
    "plt.title('Cost Function History')\n",
    "plt.show()"
   ],
   "id": "caafadf8dbce441e",
   "outputs": [
    {
     "data": {
      "text/plain": [
       "<Figure size 640x480 with 1 Axes>"
      ],
      "image/png": "[encoded data removed]"
     },
     "metadata": {},
     "output_type": "display_data"
    }
   ],
   "execution_count": 188
  },
  {
   "metadata": {},
   "cell_type": "code",
   "outputs": [],
   "execution_count": null,
   "source": "",
   "id": "8bb5c4d25974299"
  }
 ],
 "metadata": {
  "kernelspec": {
   "display_name": "Python 3",
   "language": "python",
   "name": "python3"
  },
  "language_info": {
   "codemirror_mode": {
    "name": "ipython",
    "version": 2
   },
   "file_extension": ".py",
   "mimetype": "text/x-python",
   "name": "python",
   "nbconvert_exporter": "python",
   "pygments_lexer": "ipython2",
   "version": "2.7.6"
  }
 },
 "nbformat": 4,
 "nbformat_minor": 5
}
