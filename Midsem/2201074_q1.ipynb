{
 "cells": [
  {
   "cell_type": "code",
   "id": "initial_id",
   "metadata": {
    "collapsed": true,
    "ExecuteTime": {
     "end_time": "2024-10-17T04:48:11.011798Z",
     "start_time": "2024-10-17T04:48:10.991024Z"
    }
   },
   "source": [
    "import numpy as np\n",
    "import pandas as pd\n",
    "import random as rd"
   ],
   "execution_count": 91,
   "outputs": []
  },
  {
   "metadata": {
    "ExecuteTime": {
     "end_time": "2024-10-17T04:48:11.304509Z",
     "start_time": "2024-10-17T04:48:11.291645Z"
    }
   },
   "cell_type": "code",
   "source": [
    "class Kmeans:\n",
    "    def __init__(self, X, K):\n",
    "        self.X = X\n",
    "        self.Output = {}\n",
    "        self.Centroids = np.array([]).reshape(self.X.shape[1], 0)\n",
    "        self.K = K\n",
    "        self.m = self.X.shape[0]\n",
    "\n",
    "    def kmeanspp(self, X, K):\n",
    "        i = rd.randint(0, X.shape[0]-1)\n",
    "        Centroid_temp = np.array([X[i]])\n",
    "        for k in range(1, K):\n",
    "            D = np.array([])\n",
    "            for x in X:\n",
    "                D = np.append(D, np.min(np.sum((x - Centroid_temp) ** 2)))\n",
    "            prob = D / np.sum(D)\n",
    "            cumulative_prob = np.cumsum(prob)\n",
    "            r = rd.random()\n",
    "            i = 0\n",
    "            for j, p in enumerate(cumulative_prob):\n",
    "                if r < p:\n",
    "                    i = j\n",
    "                    break\n",
    "            Centroid_temp = np.append(Centroid_temp, [X[i]], axis=0)\n",
    "        return Centroid_temp.T\n",
    "\n",
    "    def fit(self, n_iter):\n",
    "        # Randomly Initialize the centroids\n",
    "        self.Centroids = self.kmeanspp(self.X, self.K)\n",
    "    \n",
    "        # Compute Euclidean distances and assign clusters\n",
    "        for n in range(n_iter):\n",
    "            EuclideanDistance = np.array([]).reshape(self.m, 0)\n",
    "            for k in range(self.K):\n",
    "                tempDist = np.sum((self.X - self.Centroids[:, k]) ** 2, axis=1)\n",
    "                EuclideanDistance = np.c_[EuclideanDistance, tempDist]\n",
    "            C = np.argmin(EuclideanDistance, axis=1) + 1\n",
    "    \n",
    "            # Adjust the centroids\n",
    "            Y = {}\n",
    "            for k in range(self.K):\n",
    "                Y[k + 1] = np.empty((self.X.shape[1], 0))  # Initialize with the correct shape\n",
    "            for i in range(self.m):\n",
    "                Y[C[i]] = np.c_[Y[C[i]], self.X[i].reshape(-1, 1)]  # Ensure correct shape for concatenation\n",
    "    \n",
    "            for k in range(self.K):\n",
    "                Y[k + 1] = Y[k + 1].T  # Transpose to get the correct shape\n",
    "            for k in range(self.K):\n",
    "                if Y[k + 1].shape[0] > 0:  # Only update centroids if there are points in the cluster\n",
    "                    self.Centroids[:, k] = np.mean(Y[k + 1], axis=0)\n",
    "    \n",
    "            self.Output = Y\n",
    "\n",
    "\n",
    "    def predict(self):\n",
    "        return self.Output, self.Centroids.T\n",
    "\n",
    "    def WCSS(self):\n",
    "        wcss = 0\n",
    "        for k in range(self.K):\n",
    "            wcss += np.sum((self.Output[k + 1] - self.Centroids[:, k]) ** 2)\n",
    "        return wcss"
   ],
   "id": "6435fd16e2b0136e",
   "execution_count": 92,
   "outputs": []
  },
  {
   "metadata": {
    "ExecuteTime": {
     "end_time": "2024-10-17T04:48:11.729199Z",
     "start_time": "2024-10-17T04:48:11.708480Z"
    }
   },
   "cell_type": "code",
   "source": [
    "data = pd.read_csv('iris.csv')\n",
    "features = data.drop(columns=['Id','Species']) \n",
    "labels = data['Species']\n",
    "print(features.head())"
   ],
   "id": "cc63b1f3b9984da3",
   "execution_count": 93,
   "outputs": []
  },
  {
   "metadata": {
    "ExecuteTime": {
     "end_time": "2024-10-17T04:48:12.330596Z",
     "start_time": "2024-10-17T04:48:12.312278Z"
    }
   },
   "cell_type": "code",
   "source": [
    "features = (features - features.mean()) / features.std()\n",
    "print(features.describe())"
   ],
   "id": "99af77a6e67eb712",
   "execution_count": 94,
   "outputs": []
  },
  {
   "metadata": {
    "ExecuteTime": {
     "end_time": "2024-10-17T04:48:13.023191Z",
     "start_time": "2024-10-17T04:48:12.853814Z"
    }
   },
   "cell_type": "code",
   "source": [
    "K = 3\n",
    "kmeans = Kmeans(features.values, K)\n",
    "kmeans.fit(n_iter=100)\n",
    "print(kmeans.WCSS())"
   ],
   "id": "983065dad25a8980",
   "execution_count": 95,
   "outputs": []
  },
  {
   "metadata": {
    "ExecuteTime": {
     "end_time": "2024-10-17T04:51:17.486708Z",
     "start_time": "2024-10-17T04:51:17.471523Z"
    }
   },
   "cell_type": "code",
   "source": [
    "output, centroids = kmeans.predict()\n",
    "def select_closest_samples(X, output, centroids, n_samples=25):\n",
    "    selected_samples = []\n",
    "    for k in range(len(centroids)):\n",
    "        cluster_points = X[output == k]\n",
    "        if cluster_points.shape[0] == 0:\n",
    "            continue\n",
    "        distances = np.linalg.norm(cluster_points - centroids[k].reshape(1, -1), axis=1)\n",
    "        closest_indices = np.argsort(distances)[:n_samples]\n",
    "        selected_samples.extend(cluster_points[closest_indices])\n",
    "    return np.array(selected_samples)"
   ],
   "id": "58b059d979c8bb05",
   "execution_count": 101,
   "outputs": []
  },
  {
   "metadata": {
    "ExecuteTime": {
     "end_time": "2024-10-17T04:52:21.540673Z",
     "start_time": "2024-10-17T04:52:21.526839Z"
    }
   },
   "cell_type": "code",
   "source": [
    "selected_samples = select_closest_samples(features.values, output, centroids)\n",
    "selected_indices = np.array([np.where((features.values == sample).all(axis=1))[0][0] for sample in selected_samples])\n",
    "selected_labels = labels.iloc[selected_indices].values\n",
    "print(f\"Number of selected samples: {len(selected_samples)}\")\n",
    "print(f\"Number of selected labels: {len(selected_labels)}\")\n"
   ],
   "id": "94b5888978dd5e4f",
   "execution_count": 104,
   "outputs": []
  },
  {
   "metadata": {
    "ExecuteTime": {
     "end_time": "2024-10-17T04:48:16.327459Z",
     "start_time": "2024-10-17T04:48:16.246892Z"
    }
   },
   "cell_type": "code",
   "source": [
    "from sklearn.model_selection import train_test_split\n",
    "\n",
    "X_train, X_val, y_train, y_val = train_test_split(selected_samples, selected_labels, test_size=0.3)\n",
    "remaining_indices = [i for i in range(features.shape[0]) if i not in selected_indices]\n",
    "X_test = features.values[remaining_indices]\n",
    "y_test = labels.iloc[remaining_indices].values"
   ],
   "id": "679f605184df34c7",
   "execution_count": 98,
   "outputs": []
  },
  {
   "metadata": {
    "ExecuteTime": {
     "end_time": "2024-10-17T04:43:44.226474Z",
     "start_time": "2024-10-17T04:43:44.214507Z"
    }
   },
   "cell_type": "code",
   "source": [
    "class LogisticRegression:\n",
    "    def __init__(self, learning_rate=0.01, num_iterations=1000):\n",
    "        self.learning_rate = learning_rate\n",
    "        self.num_iterations = num_iterations\n",
    "        self.weights = None\n",
    "        self.bias = None\n",
    "\n",
    "    def sigmoid(self, z):\n",
    "        return 1 / (1 + np.exp(-z))\n",
    "\n",
    "    def fit(self, X, y):\n",
    "        num_samples, num_features = X.shape\n",
    "        self.weights = np.zeros(num_features)\n",
    "        self.bias = 0\n",
    "\n",
    "        for _ in range(self.num_iterations):\n",
    "            linear_model = np.dot(X, self.weights) + self.bias\n",
    "            y_predicted = self.sigmoid(linear_model)\n",
    "\n",
    "            dw = (1 / num_samples) * np.dot(X.T, (y_predicted - y))\n",
    "            db = (1 / num_samples) * np.sum(y_predicted - y)\n",
    "\n",
    "            self.weights -= self.learning_rate * dw\n",
    "            self.bias -= self.learning_rate * db\n",
    "\n",
    "    def predict(self, X):\n",
    "        linear_model = np.dot(X, self.weights) + self.bias\n",
    "        y_predicted = self.sigmoid(linear_model)\n",
    "        return [1 if i > 0.5 else 0 for i in y_predicted]"
   ],
   "id": "fe33506fa68b4cc2",
   "execution_count": 76,
   "outputs": []
  },
  {
   "metadata": {
    "ExecuteTime": {
     "end_time": "2024-10-17T04:43:46.186656Z",
     "start_time": "2024-10-17T04:43:46.152822Z"
    }
   },
   "cell_type": "code",
   "source": [
    "model = LogisticRegression(learning_rate=0.01, num_iterations=1000)\n",
    "model.fit(X_train, y_train)"
   ],
   "id": "7550033cbbc37b24",
   "execution_count": 77,
   "outputs": []
  },
  {
   "metadata": {
    "ExecuteTime": {
     "end_time": "2024-10-17T04:45:20.217968Z",
     "start_time": "2024-10-17T04:45:20.133023Z"
    }
   },
   "cell_type": "code",
   "source": [
    "y_val_pred = model.predict(X_val)\n",
    "val_accuracy = np.mean(y_val_pred == y_val)\n",
    "print(f'Validation Accuracy: {val_accuracy}')"
   ],
   "id": "cb698f3566e680b4",
   "execution_count": 79,
   "outputs": []
  },
  {
   "metadata": {
    "ExecuteTime": {
     "end_time": "2024-10-17T04:48:24.118591Z",
     "start_time": "2024-10-17T04:48:24.063576Z"
    }
   },
   "cell_type": "code",
   "source": [
    "y_test_pred = model.predict(X_test)\n",
    "test_accuracy = np.mean(y_test_pred == y_test)\n",
    "print(f'Test Accuracy: {test_accuracy}')"
   ],
   "id": "4340103843a003bc",
   "execution_count": 99,
   "outputs": []
  },
  {
   "metadata": {},
   "cell_type": "markdown",
   "source": "",
   "id": "465db0935d7da516"
  },
  {
   "metadata": {},
   "cell_type": "code",
   "execution_count": null,
   "source": "",
   "id": "701071b5a5a5417",
   "outputs": []
  }
 ],
 "metadata": {
  "kernelspec": {
   "display_name": "Python 3",
   "language": "python",
   "name": "python3"
  },
  "language_info": {
   "codemirror_mode": {
    "name": "ipython",
    "version": 2
   },
   "file_extension": ".py",
   "mimetype": "text/x-python",
   "name": "python",
   "nbconvert_exporter": "python",
   "pygments_lexer": "ipython2",
   "version": "2.7.6"
  }
 },
 "nbformat": 4,
 "nbformat_minor": 5
}
