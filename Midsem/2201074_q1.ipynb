{
 "cells": [
  {
   "cell_type": "code",
   "id": "initial_id",
   "metadata": {
    "collapsed": true,
    "ExecuteTime": {
     "end_time": "2024-10-17T04:48:11.011798Z",
     "start_time": "2024-10-17T04:48:10.991024Z"
    }
   },
   "source": [
    "import numpy as np\n",
    "import pandas as pd\n",
    "import random as rd"
   ],
   "outputs": [],
   "execution_count": 91
  },
  {
   "metadata": {
    "ExecuteTime": {
     "end_time": "2024-10-17T04:48:11.304509Z",
     "start_time": "2024-10-17T04:48:11.291645Z"
    }
   },
   "cell_type": "code",
   "source": [
    "class Kmeans:\n",
    "    def __init__(self, X, K):\n",
    "        self.X = X\n",
    "        self.Output = {}\n",
    "        self.Centroids = np.array([]).reshape(self.X.shape[1], 0)\n",
    "        self.K = K\n",
    "        self.m = self.X.shape[0]\n",
    "\n",
    "    def kmeanspp(self, X, K):\n",
    "        i = rd.randint(0, X.shape[0]-1)\n",
    "        Centroid_temp = np.array([X[i]])\n",
    "        for k in range(1, K):\n",
    "            D = np.array([])\n",
    "            for x in X:\n",
    "                D = np.append(D, np.min(np.sum((x - Centroid_temp) ** 2)))\n",
    "            prob = D / np.sum(D)\n",
    "            cumulative_prob = np.cumsum(prob)\n",
    "            r = rd.random()\n",
    "            i = 0\n",
    "            for j, p in enumerate(cumulative_prob):\n",
    "                if r < p:\n",
    "                    i = j\n",
    "                    break\n",
    "            Centroid_temp = np.append(Centroid_temp, [X[i]], axis=0)\n",
    "        return Centroid_temp.T\n",
    "\n",
    "    def fit(self, n_iter):\n",
    "        # Randomly Initialize the centroids\n",
    "        self.Centroids = self.kmeanspp(self.X, self.K)\n",
    "    \n",
    "        # Compute Euclidean distances and assign clusters\n",
    "        for n in range(n_iter):\n",
    "            EuclideanDistance = np.array([]).reshape(self.m, 0)\n",
    "            for k in range(self.K):\n",
    "                tempDist = np.sum((self.X - self.Centroids[:, k]) ** 2, axis=1)\n",
    "                EuclideanDistance = np.c_[EuclideanDistance, tempDist]\n",
    "            C = np.argmin(EuclideanDistance, axis=1) + 1\n",
    "    \n",
    "            # Adjust the centroids\n",
    "            Y = {}\n",
    "            for k in range(self.K):\n",
    "                Y[k + 1] = np.empty((self.X.shape[1], 0))  # Initialize with the correct shape\n",
    "            for i in range(self.m):\n",
    "                Y[C[i]] = np.c_[Y[C[i]], self.X[i].reshape(-1, 1)]  # Ensure correct shape for concatenation\n",
    "    \n",
    "            for k in range(self.K):\n",
    "                Y[k + 1] = Y[k + 1].T  # Transpose to get the correct shape\n",
    "            for k in range(self.K):\n",
    "                if Y[k + 1].shape[0] > 0:  # Only update centroids if there are points in the cluster\n",
    "                    self.Centroids[:, k] = np.mean(Y[k + 1], axis=0)\n",
    "    \n",
    "            self.Output = Y\n",
    "\n",
    "\n",
    "    def predict(self):\n",
    "        return self.Output, self.Centroids.T\n",
    "\n",
    "    def WCSS(self):\n",
    "        wcss = 0\n",
    "        for k in range(self.K):\n",
    "            wcss += np.sum((self.Output[k + 1] - self.Centroids[:, k]) ** 2)\n",
    "        return wcss"
   ],
   "id": "6435fd16e2b0136e",
   "outputs": [],
   "execution_count": 92
  },
  {
   "metadata": {
    "ExecuteTime": {
     "end_time": "2024-10-17T04:48:11.729199Z",
     "start_time": "2024-10-17T04:48:11.708480Z"
    }
   },
   "cell_type": "code",
   "source": [
    "data = pd.read_csv('iris.csv')\n",
    "features = data.drop(columns=['Id','Species']) \n",
    "labels = data['Species']\n",
    "print(features.head())"
   ],
   "id": "cc63b1f3b9984da3",
   "outputs": [
    {
     "name": "stdout",
     "output_type": "stream",
     "text": [
      "   SepalLengthCm  SepalWidthCm  PetalLengthCm  PetalWidthCm\n",
      "0            5.1           3.5            1.4           0.2\n",
      "1            4.9           3.0            1.4           0.2\n",
      "2            4.7           3.2            1.3           0.2\n",
      "3            4.6           3.1            1.5           0.2\n",
      "4            5.0           3.6            1.4           0.2\n"
     ]
    }
   ],
   "execution_count": 93
  },
  {
   "metadata": {
    "ExecuteTime": {
     "end_time": "2024-10-17T04:48:12.330596Z",
     "start_time": "2024-10-17T04:48:12.312278Z"
    }
   },
   "cell_type": "code",
   "source": [
    "features = (features - features.mean()) / features.std()\n",
    "print(features.describe())"
   ],
   "id": "99af77a6e67eb712",
   "outputs": [
    {
     "name": "stdout",
     "output_type": "stream",
     "text": [
      "       SepalLengthCm  SepalWidthCm  PetalLengthCm  PetalWidthCm\n",
      "count   1.500000e+02  1.500000e+02   1.500000e+02  1.500000e+02\n",
      "mean   -5.684342e-16 -6.158037e-16   1.894781e-16 -1.894781e-16\n",
      "std     1.000000e+00  1.000000e+00   1.000000e+00  1.000000e+00\n",
      "min    -1.863780e+00 -2.430844e+00  -1.563497e+00 -1.439627e+00\n",
      "25%    -8.976739e-01 -5.858010e-01  -1.223442e+00 -1.177559e+00\n",
      "50%    -5.233076e-02 -1.245404e-01   3.351431e-01  1.327811e-01\n",
      "75%     6.722490e-01  5.673506e-01   7.602119e-01  7.879511e-01\n",
      "max     2.483699e+00  3.104284e+00   1.780377e+00  1.705189e+00\n"
     ]
    }
   ],
   "execution_count": 94
  },
  {
   "metadata": {
    "ExecuteTime": {
     "end_time": "2024-10-17T04:48:13.023191Z",
     "start_time": "2024-10-17T04:48:12.853814Z"
    }
   },
   "cell_type": "code",
   "source": [
    "K = 3\n",
    "kmeans = Kmeans(features.values, K)\n",
    "kmeans.fit(n_iter=100)\n",
    "print(kmeans.WCSS())"
   ],
   "id": "983065dad25a8980",
   "outputs": [
    {
     "name": "stdout",
     "output_type": "stream",
     "text": [
      "140.21315027966057\n"
     ]
    }
   ],
   "execution_count": 95
  },
  {
   "metadata": {
    "ExecuteTime": {
     "end_time": "2024-10-17T04:51:17.486708Z",
     "start_time": "2024-10-17T04:51:17.471523Z"
    }
   },
   "cell_type": "code",
   "source": [
    "output, centroids = kmeans.predict()\n",
    "def select_closest_samples(X, output, centroids, n_samples=25):\n",
    "    selected_samples = []\n",
    "    for k in range(len(centroids)):\n",
    "        cluster_points = X[output == k]\n",
    "        if cluster_points.shape[0] == 0:\n",
    "            continue\n",
    "        distances = np.linalg.norm(cluster_points - centroids[k].reshape(1, -1), axis=1)\n",
    "        closest_indices = np.argsort(distances)[:n_samples]\n",
    "        selected_samples.extend(cluster_points[closest_indices])\n",
    "    return np.array(selected_samples)"
   ],
   "id": "58b059d979c8bb05",
   "outputs": [],
   "execution_count": 101
  },
  {
   "metadata": {
    "ExecuteTime": {
     "end_time": "2024-10-17T04:52:21.540673Z",
     "start_time": "2024-10-17T04:52:21.526839Z"
    }
   },
   "cell_type": "code",
   "source": [
    "selected_samples = select_closest_samples(features.values, output, centroids)\n",
    "selected_indices = np.array([np.where((features.values == sample).all(axis=1))[0][0] for sample in selected_samples])\n",
    "selected_labels = labels.iloc[selected_indices].values\n",
    "print(f\"Number of selected samples: {len(selected_samples)}\")\n",
    "print(f\"Number of selected labels: {len(selected_labels)}\")\n"
   ],
   "id": "94b5888978dd5e4f",
   "outputs": [
    {
     "name": "stdout",
     "output_type": "stream",
     "text": [
      "Number of selected samples: 0\n",
      "Number of selected labels: 0\n"
     ]
    }
   ],
   "execution_count": 104
  },
  {
   "metadata": {
    "ExecuteTime": {
     "end_time": "2024-10-17T04:48:16.327459Z",
     "start_time": "2024-10-17T04:48:16.246892Z"
    }
   },
   "cell_type": "code",
   "source": [
    "from sklearn.model_selection import train_test_split\n",
    "\n",
    "X_train, X_val, y_train, y_val = train_test_split(selected_samples, selected_labels, test_size=0.3)\n",
    "remaining_indices = [i for i in range(features.shape[0]) if i not in selected_indices]\n",
    "X_test = features.values[remaining_indices]\n",
    "y_test = labels.iloc[remaining_indices].values"
   ],
   "id": "679f605184df34c7",
   "outputs": [
    {
     "ename": "ValueError",
     "evalue": "With n_samples=0, test_size=0.3 and train_size=None, the resulting train set will be empty. Adjust any of the aforementioned parameters.",
     "output_type": "error",
     "traceback": [
      "\u001B[0;31m---------------------------------------------------------------------------\u001B[0m",
      "\u001B[0;31mValueError\u001B[0m                                Traceback (most recent call last)",
      "Cell \u001B[0;32mIn[98], line 3\u001B[0m\n\u001B[1;32m      1\u001B[0m \u001B[38;5;28;01mfrom\u001B[39;00m \u001B[38;5;21;01msklearn\u001B[39;00m\u001B[38;5;21;01m.\u001B[39;00m\u001B[38;5;21;01mmodel_selection\u001B[39;00m \u001B[38;5;28;01mimport\u001B[39;00m train_test_split\n\u001B[0;32m----> 3\u001B[0m X_train, X_val, y_train, y_val \u001B[38;5;241m=\u001B[39m \u001B[43mtrain_test_split\u001B[49m\u001B[43m(\u001B[49m\u001B[43mselected_samples\u001B[49m\u001B[43m,\u001B[49m\u001B[43m \u001B[49m\u001B[43mselected_labels\u001B[49m\u001B[43m,\u001B[49m\u001B[43m \u001B[49m\u001B[43mtest_size\u001B[49m\u001B[38;5;241;43m=\u001B[39;49m\u001B[38;5;241;43m0.3\u001B[39;49m\u001B[43m)\u001B[49m\n\u001B[1;32m      4\u001B[0m remaining_indices \u001B[38;5;241m=\u001B[39m [i \u001B[38;5;28;01mfor\u001B[39;00m i \u001B[38;5;129;01min\u001B[39;00m \u001B[38;5;28mrange\u001B[39m(features\u001B[38;5;241m.\u001B[39mshape[\u001B[38;5;241m0\u001B[39m]) \u001B[38;5;28;01mif\u001B[39;00m i \u001B[38;5;129;01mnot\u001B[39;00m \u001B[38;5;129;01min\u001B[39;00m selected_indices]\n\u001B[1;32m      5\u001B[0m X_test \u001B[38;5;241m=\u001B[39m features\u001B[38;5;241m.\u001B[39mvalues[remaining_indices]\n",
      "File \u001B[0;32m/usr/local/lib/python3.11/site-packages/sklearn/utils/_param_validation.py:213\u001B[0m, in \u001B[0;36mvalidate_params.<locals>.decorator.<locals>.wrapper\u001B[0;34m(*args, **kwargs)\u001B[0m\n\u001B[1;32m    207\u001B[0m \u001B[38;5;28;01mtry\u001B[39;00m:\n\u001B[1;32m    208\u001B[0m     \u001B[38;5;28;01mwith\u001B[39;00m config_context(\n\u001B[1;32m    209\u001B[0m         skip_parameter_validation\u001B[38;5;241m=\u001B[39m(\n\u001B[1;32m    210\u001B[0m             prefer_skip_nested_validation \u001B[38;5;129;01mor\u001B[39;00m global_skip_validation\n\u001B[1;32m    211\u001B[0m         )\n\u001B[1;32m    212\u001B[0m     ):\n\u001B[0;32m--> 213\u001B[0m         \u001B[38;5;28;01mreturn\u001B[39;00m \u001B[43mfunc\u001B[49m\u001B[43m(\u001B[49m\u001B[38;5;241;43m*\u001B[39;49m\u001B[43margs\u001B[49m\u001B[43m,\u001B[49m\u001B[43m \u001B[49m\u001B[38;5;241;43m*\u001B[39;49m\u001B[38;5;241;43m*\u001B[39;49m\u001B[43mkwargs\u001B[49m\u001B[43m)\u001B[49m\n\u001B[1;32m    214\u001B[0m \u001B[38;5;28;01mexcept\u001B[39;00m InvalidParameterError \u001B[38;5;28;01mas\u001B[39;00m e:\n\u001B[1;32m    215\u001B[0m     \u001B[38;5;66;03m# When the function is just a wrapper around an estimator, we allow\u001B[39;00m\n\u001B[1;32m    216\u001B[0m     \u001B[38;5;66;03m# the function to delegate validation to the estimator, but we replace\u001B[39;00m\n\u001B[1;32m    217\u001B[0m     \u001B[38;5;66;03m# the name of the estimator by the name of the function in the error\u001B[39;00m\n\u001B[1;32m    218\u001B[0m     \u001B[38;5;66;03m# message to avoid confusion.\u001B[39;00m\n\u001B[1;32m    219\u001B[0m     msg \u001B[38;5;241m=\u001B[39m re\u001B[38;5;241m.\u001B[39msub(\n\u001B[1;32m    220\u001B[0m         \u001B[38;5;124mr\u001B[39m\u001B[38;5;124m\"\u001B[39m\u001B[38;5;124mparameter of \u001B[39m\u001B[38;5;124m\\\u001B[39m\u001B[38;5;124mw+ must be\u001B[39m\u001B[38;5;124m\"\u001B[39m,\n\u001B[1;32m    221\u001B[0m         \u001B[38;5;124mf\u001B[39m\u001B[38;5;124m\"\u001B[39m\u001B[38;5;124mparameter of \u001B[39m\u001B[38;5;132;01m{\u001B[39;00mfunc\u001B[38;5;241m.\u001B[39m\u001B[38;5;18m__qualname__\u001B[39m\u001B[38;5;132;01m}\u001B[39;00m\u001B[38;5;124m must be\u001B[39m\u001B[38;5;124m\"\u001B[39m,\n\u001B[1;32m    222\u001B[0m         \u001B[38;5;28mstr\u001B[39m(e),\n\u001B[1;32m    223\u001B[0m     )\n",
      "File \u001B[0;32m/usr/local/lib/python3.11/site-packages/sklearn/model_selection/_split.py:2780\u001B[0m, in \u001B[0;36mtrain_test_split\u001B[0;34m(test_size, train_size, random_state, shuffle, stratify, *arrays)\u001B[0m\n\u001B[1;32m   2777\u001B[0m arrays \u001B[38;5;241m=\u001B[39m indexable(\u001B[38;5;241m*\u001B[39marrays)\n\u001B[1;32m   2779\u001B[0m n_samples \u001B[38;5;241m=\u001B[39m _num_samples(arrays[\u001B[38;5;241m0\u001B[39m])\n\u001B[0;32m-> 2780\u001B[0m n_train, n_test \u001B[38;5;241m=\u001B[39m \u001B[43m_validate_shuffle_split\u001B[49m\u001B[43m(\u001B[49m\n\u001B[1;32m   2781\u001B[0m \u001B[43m    \u001B[49m\u001B[43mn_samples\u001B[49m\u001B[43m,\u001B[49m\u001B[43m \u001B[49m\u001B[43mtest_size\u001B[49m\u001B[43m,\u001B[49m\u001B[43m \u001B[49m\u001B[43mtrain_size\u001B[49m\u001B[43m,\u001B[49m\u001B[43m \u001B[49m\u001B[43mdefault_test_size\u001B[49m\u001B[38;5;241;43m=\u001B[39;49m\u001B[38;5;241;43m0.25\u001B[39;49m\n\u001B[1;32m   2782\u001B[0m \u001B[43m\u001B[49m\u001B[43m)\u001B[49m\n\u001B[1;32m   2784\u001B[0m \u001B[38;5;28;01mif\u001B[39;00m shuffle \u001B[38;5;129;01mis\u001B[39;00m \u001B[38;5;28;01mFalse\u001B[39;00m:\n\u001B[1;32m   2785\u001B[0m     \u001B[38;5;28;01mif\u001B[39;00m stratify \u001B[38;5;129;01mis\u001B[39;00m \u001B[38;5;129;01mnot\u001B[39;00m \u001B[38;5;28;01mNone\u001B[39;00m:\n",
      "File \u001B[0;32m/usr/local/lib/python3.11/site-packages/sklearn/model_selection/_split.py:2410\u001B[0m, in \u001B[0;36m_validate_shuffle_split\u001B[0;34m(n_samples, test_size, train_size, default_test_size)\u001B[0m\n\u001B[1;32m   2407\u001B[0m n_train, n_test \u001B[38;5;241m=\u001B[39m \u001B[38;5;28mint\u001B[39m(n_train), \u001B[38;5;28mint\u001B[39m(n_test)\n\u001B[1;32m   2409\u001B[0m \u001B[38;5;28;01mif\u001B[39;00m n_train \u001B[38;5;241m==\u001B[39m \u001B[38;5;241m0\u001B[39m:\n\u001B[0;32m-> 2410\u001B[0m     \u001B[38;5;28;01mraise\u001B[39;00m \u001B[38;5;167;01mValueError\u001B[39;00m(\n\u001B[1;32m   2411\u001B[0m         \u001B[38;5;124m\"\u001B[39m\u001B[38;5;124mWith n_samples=\u001B[39m\u001B[38;5;132;01m{}\u001B[39;00m\u001B[38;5;124m, test_size=\u001B[39m\u001B[38;5;132;01m{}\u001B[39;00m\u001B[38;5;124m and train_size=\u001B[39m\u001B[38;5;132;01m{}\u001B[39;00m\u001B[38;5;124m, the \u001B[39m\u001B[38;5;124m\"\u001B[39m\n\u001B[1;32m   2412\u001B[0m         \u001B[38;5;124m\"\u001B[39m\u001B[38;5;124mresulting train set will be empty. Adjust any of the \u001B[39m\u001B[38;5;124m\"\u001B[39m\n\u001B[1;32m   2413\u001B[0m         \u001B[38;5;124m\"\u001B[39m\u001B[38;5;124maforementioned parameters.\u001B[39m\u001B[38;5;124m\"\u001B[39m\u001B[38;5;241m.\u001B[39mformat(n_samples, test_size, train_size)\n\u001B[1;32m   2414\u001B[0m     )\n\u001B[1;32m   2416\u001B[0m \u001B[38;5;28;01mreturn\u001B[39;00m n_train, n_test\n",
      "\u001B[0;31mValueError\u001B[0m: With n_samples=0, test_size=0.3 and train_size=None, the resulting train set will be empty. Adjust any of the aforementioned parameters."
     ]
    }
   ],
   "execution_count": 98
  },
  {
   "metadata": {
    "ExecuteTime": {
     "end_time": "2024-10-17T04:43:44.226474Z",
     "start_time": "2024-10-17T04:43:44.214507Z"
    }
   },
   "cell_type": "code",
   "source": [
    "class LogisticRegression:\n",
    "    def __init__(self, learning_rate=0.01, num_iterations=1000):\n",
    "        self.learning_rate = learning_rate\n",
    "        self.num_iterations = num_iterations\n",
    "        self.weights = None\n",
    "        self.bias = None\n",
    "\n",
    "    def sigmoid(self, z):\n",
    "        return 1 / (1 + np.exp(-z))\n",
    "\n",
    "    def fit(self, X, y):\n",
    "        num_samples, num_features = X.shape\n",
    "        self.weights = np.zeros(num_features)\n",
    "        self.bias = 0\n",
    "\n",
    "        for _ in range(self.num_iterations):\n",
    "            linear_model = np.dot(X, self.weights) + self.bias\n",
    "            y_predicted = self.sigmoid(linear_model)\n",
    "\n",
    "            dw = (1 / num_samples) * np.dot(X.T, (y_predicted - y))\n",
    "            db = (1 / num_samples) * np.sum(y_predicted - y)\n",
    "\n",
    "            self.weights -= self.learning_rate * dw\n",
    "            self.bias -= self.learning_rate * db\n",
    "\n",
    "    def predict(self, X):\n",
    "        linear_model = np.dot(X, self.weights) + self.bias\n",
    "        y_predicted = self.sigmoid(linear_model)\n",
    "        return [1 if i > 0.5 else 0 for i in y_predicted]"
   ],
   "id": "fe33506fa68b4cc2",
   "outputs": [],
   "execution_count": 76
  },
  {
   "metadata": {
    "ExecuteTime": {
     "end_time": "2024-10-17T04:43:46.186656Z",
     "start_time": "2024-10-17T04:43:46.152822Z"
    }
   },
   "cell_type": "code",
   "source": [
    "model = LogisticRegression(learning_rate=0.01, num_iterations=1000)\n",
    "model.fit(X_train, y_train)"
   ],
   "id": "7550033cbbc37b24",
   "outputs": [
    {
     "ename": "NameError",
     "evalue": "name 'X_train' is not defined",
     "output_type": "error",
     "traceback": [
      "\u001B[0;31m---------------------------------------------------------------------------\u001B[0m",
      "\u001B[0;31mNameError\u001B[0m                                 Traceback (most recent call last)",
      "Cell \u001B[0;32mIn[77], line 2\u001B[0m\n\u001B[1;32m      1\u001B[0m model \u001B[38;5;241m=\u001B[39m LogisticRegression(learning_rate\u001B[38;5;241m=\u001B[39m\u001B[38;5;241m0.01\u001B[39m, num_iterations\u001B[38;5;241m=\u001B[39m\u001B[38;5;241m1000\u001B[39m)\n\u001B[0;32m----> 2\u001B[0m model\u001B[38;5;241m.\u001B[39mfit(\u001B[43mX_train\u001B[49m, y_train)\n",
      "\u001B[0;31mNameError\u001B[0m: name 'X_train' is not defined"
     ]
    }
   ],
   "execution_count": 77
  },
  {
   "metadata": {
    "ExecuteTime": {
     "end_time": "2024-10-17T04:45:20.217968Z",
     "start_time": "2024-10-17T04:45:20.133023Z"
    }
   },
   "cell_type": "code",
   "source": [
    "y_val_pred = model.predict(X_val)\n",
    "val_accuracy = np.mean(y_val_pred == y_val)\n",
    "print(f'Validation Accuracy: {val_accuracy}')"
   ],
   "id": "cb698f3566e680b4",
   "outputs": [
    {
     "ename": "NameError",
     "evalue": "name 'X_val' is not defined",
     "output_type": "error",
     "traceback": [
      "\u001B[0;31m---------------------------------------------------------------------------\u001B[0m",
      "\u001B[0;31mNameError\u001B[0m                                 Traceback (most recent call last)",
      "Cell \u001B[0;32mIn[79], line 1\u001B[0m\n\u001B[0;32m----> 1\u001B[0m y_val_pred \u001B[38;5;241m=\u001B[39m model\u001B[38;5;241m.\u001B[39mpredict(\u001B[43mX_val\u001B[49m)\n\u001B[1;32m      2\u001B[0m val_accuracy \u001B[38;5;241m=\u001B[39m np\u001B[38;5;241m.\u001B[39mmean(y_val_pred \u001B[38;5;241m==\u001B[39m y_val)\n\u001B[1;32m      3\u001B[0m \u001B[38;5;28mprint\u001B[39m(\u001B[38;5;124mf\u001B[39m\u001B[38;5;124m'\u001B[39m\u001B[38;5;124mValidation Accuracy: \u001B[39m\u001B[38;5;132;01m{\u001B[39;00mval_accuracy\u001B[38;5;132;01m}\u001B[39;00m\u001B[38;5;124m'\u001B[39m)\n",
      "\u001B[0;31mNameError\u001B[0m: name 'X_val' is not defined"
     ]
    }
   ],
   "execution_count": 79
  },
  {
   "metadata": {
    "ExecuteTime": {
     "end_time": "2024-10-17T04:48:24.118591Z",
     "start_time": "2024-10-17T04:48:24.063576Z"
    }
   },
   "cell_type": "code",
   "source": [
    "y_test_pred = model.predict(X_test)\n",
    "test_accuracy = np.mean(y_test_pred == y_test)\n",
    "print(f'Test Accuracy: {test_accuracy}')"
   ],
   "id": "4340103843a003bc",
   "outputs": [
    {
     "ename": "NameError",
     "evalue": "name 'X_test' is not defined",
     "output_type": "error",
     "traceback": [
      "\u001B[0;31m---------------------------------------------------------------------------\u001B[0m",
      "\u001B[0;31mNameError\u001B[0m                                 Traceback (most recent call last)",
      "Cell \u001B[0;32mIn[99], line 1\u001B[0m\n\u001B[0;32m----> 1\u001B[0m y_test_pred \u001B[38;5;241m=\u001B[39m model\u001B[38;5;241m.\u001B[39mpredict(\u001B[43mX_test\u001B[49m)\n\u001B[1;32m      2\u001B[0m test_accuracy \u001B[38;5;241m=\u001B[39m np\u001B[38;5;241m.\u001B[39mmean(y_test_pred \u001B[38;5;241m==\u001B[39m y_test)\n\u001B[1;32m      3\u001B[0m \u001B[38;5;28mprint\u001B[39m(\u001B[38;5;124mf\u001B[39m\u001B[38;5;124m'\u001B[39m\u001B[38;5;124mTest Accuracy: \u001B[39m\u001B[38;5;132;01m{\u001B[39;00mtest_accuracy\u001B[38;5;132;01m}\u001B[39;00m\u001B[38;5;124m'\u001B[39m)\n",
      "\u001B[0;31mNameError\u001B[0m: name 'X_test' is not defined"
     ]
    }
   ],
   "execution_count": 99
  },
  {
   "metadata": {},
   "cell_type": "markdown",
   "source": "",
   "id": "465db0935d7da516"
  },
  {
   "metadata": {},
   "cell_type": "code",
   "outputs": [],
   "execution_count": null,
   "source": "",
   "id": "701071b5a5a5417"
  }
 ],
 "metadata": {
  "kernelspec": {
   "display_name": "Python 3",
   "language": "python",
   "name": "python3"
  },
  "language_info": {
   "codemirror_mode": {
    "name": "ipython",
    "version": 2
   },
   "file_extension": ".py",
   "mimetype": "text/x-python",
   "name": "python",
   "nbconvert_exporter": "python",
   "pygments_lexer": "ipython2",
   "version": "2.7.6"
  }
 },
 "nbformat": 4,
 "nbformat_minor": 5
}
